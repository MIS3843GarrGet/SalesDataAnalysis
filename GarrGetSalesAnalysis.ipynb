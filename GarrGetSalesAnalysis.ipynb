{
 "cells": [
  {
   "cell_type": "markdown",
   "metadata": {},
   "source": [
    "# Sales Data Analysis Using: ('sales_data.csv')\n",
    "- George Garrelts and Craig Geter\n",
    "- [Data Source](https://www.kaggle.com/datasets/aemyjutt/salesdata)\n",
    "- [Raw Data File Download](sales_data.csv)\n"
   ]
  },
  {
   "cell_type": "markdown",
   "metadata": {},
   "source": [
    "## Initalization/Data Cleaning: (RUN ALL 1ST)"
   ]
  },
  {
   "cell_type": "code",
   "execution_count": 14,
   "metadata": {},
   "outputs": [],
   "source": [
    "#Libraries Imported for Analysis: Numpy, Pandas, Matplotlib and Seaborn\n",
    "import numpy as np #Numerical Pyhton tool (Arrays,Mathmatical funcions to arrays, etc)\n",
    "import pandas as pd #Data Manipulation tool (Loading CSV File,Filtering rows, Calculating Summary Statistics)\n",
    "import matplotlib.pyplot as plt #Data Visualization tool (Visualize Trends)\n",
    "import seaborn as sns # Data Visualization tool ( Distribution plots scatterplots with regression lines and confidence intervals)"
   ]
  },
  {
   "cell_type": "code",
   "execution_count": 15,
   "metadata": {},
   "outputs": [],
   "source": [
    "#Loads the CSV data file using Pandas into Dataframe (Variable df)\n",
    "\n",
    "df = pd.read_csv('sales_data.csv')"
   ]
  },
  {
   "cell_type": "code",
   "execution_count": 16,
   "metadata": {},
   "outputs": [],
   "source": [
    "#Renames Column Names to match Naming Coventions\n",
    "\n",
    "df.rename(columns={'catégorie': 'Category'}, inplace=True) # renames Column from catégorie to Category\n",
    "df.rename(columns={'Product_ean': 'ProductID'}, inplace=True) # Renames Product_ean (European Article Number) to Product ID for easier Comprehension\n",
    "df.rename(columns={'turnover': 'Revenue'}, inplace=True) # Renames the \"turnover\" column to \"Revenue\" for easier comprehension\n",
    "df.rename(columns={'margin': 'ProfitMargin'}, inplace=True) # Renames the \"Margin\" column to \"Profit Margin\"\n",
    "df.rename(columns={\"Cost price\": \"CostPrice\", \"Price Each\": \"PriceEach\"}, inplace=True) # Organizes \"cost Price and Price each\" to make it neater\n",
    "df.rename(columns={'Order Date':'OrderDate'}, inplace=True) #Renames Order date to match the rest of the naming conventions\n"
   ]
  },
  {
   "cell_type": "code",
   "execution_count": 21,
   "metadata": {},
   "outputs": [
    {
     "data": {
      "text/plain": [
       "OrderDate           0\n",
       "Order ID            0\n",
       "Product             0\n",
       "ProductID           0\n",
       "Category            0\n",
       "Purchase Address    0\n",
       "Quantity Ordered    0\n",
       "PriceEach           0\n",
       "CostPrice           0\n",
       "Revenue             0\n",
       "ProfitMargin        0\n",
       "dtype: int64"
      ]
     },
     "execution_count": 21,
     "metadata": {},
     "output_type": "execute_result"
    }
   ],
   "source": [
    "#Data Cleaning :\n",
    "\n",
    "df.isnull().sum() # Searches for any missing (null) values"
   ]
  },
  {
   "cell_type": "markdown",
   "metadata": {},
   "source": [
    "## Data Analysis"
   ]
  },
  {
   "cell_type": "code",
   "execution_count": null,
   "metadata": {},
   "outputs": [],
   "source": [
    "\n",
    "df.head(100) # See the first \"100\" of rows of the dataframe\n"
   ]
  },
  {
   "cell_type": "code",
   "execution_count": null,
   "metadata": {},
   "outputs": [],
   "source": [
    "df.describe () # To get a statistical Summary of the dataframe"
   ]
  },
  {
   "cell_type": "code",
   "execution_count": null,
   "metadata": {},
   "outputs": [],
   "source": [
    "# Data Types and Null Values\n",
    "\n",
    "df.info() # Get Information about data types and null values\n",
    "\n",
    "\"\"\"\n",
    "# Float 64 (Decimal Numbers): 5 Columns\n",
    "# Int64 (Whole Numbers): 2 Columns\n",
    "# Object (Mix Data Type: Numbers and Text): 4 columns\n",
    "# 11 Columns total \n",
    "\"\"\""
   ]
  }
 ],
 "metadata": {
  "kernelspec": {
   "display_name": "Python 3",
   "language": "python",
   "name": "python3"
  },
  "language_info": {
   "codemirror_mode": {
    "name": "ipython",
    "version": 3
   },
   "file_extension": ".py",
   "mimetype": "text/x-python",
   "name": "python",
   "nbconvert_exporter": "python",
   "pygments_lexer": "ipython3",
   "version": "3.11.5"
  },
  "orig_nbformat": 4
 },
 "nbformat": 4,
 "nbformat_minor": 2
}
