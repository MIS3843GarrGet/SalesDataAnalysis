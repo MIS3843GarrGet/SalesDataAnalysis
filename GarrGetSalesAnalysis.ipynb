{
 "cells": [
  {
   "cell_type": "markdown",
   "metadata": {},
   "source": [
    "# Sales Data Analysis Using: ('sales_data.csv')\n",
    "- George Garrelts and Craig Geter\n",
    "- [Data Source](https://www.kaggle.com/datasets/aemyjutt/salesdata)\n",
    "- [Raw Data File Download](sales_data.csv)\n"
   ]
  },
  {
   "cell_type": "markdown",
   "metadata": {},
   "source": [
    "## Initalization:"
   ]
  },
  {
   "cell_type": "code",
   "execution_count": 1,
   "metadata": {},
   "outputs": [],
   "source": [
    "#Libraries Imported for Analysis: Numpy, Pandas, Matplotlib and Seaborn\n",
    "import numpy as np #Numerical Pyhton tool (Arrays,Mathmatical funcions to arrays, etc)\n",
    "import pandas as pd #Data Manipulation tool (Loading CSV File,Filtering rows, Calculating Summary Statistics)\n",
    "import matplotlib.pyplot as plt #Data Visualization tool (Visualize Trends)\n",
    "import seaborn as sns # Data Visualization tool ( Distribution plots scatterplots with regression lines and confidence intervals)"
   ]
  },
  {
   "cell_type": "code",
   "execution_count": 2,
   "metadata": {},
   "outputs": [],
   "source": [
    "#Loads the CSV data file using Pandas into Dataframe (Variable df)\n",
    "\n",
    "df = pd.read_csv('sales_data.csv')"
   ]
  },
  {
   "cell_type": "markdown",
   "metadata": {},
   "source": [
    "## Different Panda Functions"
   ]
  },
  {
   "cell_type": "code",
   "execution_count": 8,
   "metadata": {},
   "outputs": [
    {
     "data": {
      "text/html": [
       "<div>\n",
       "<style scoped>\n",
       "    .dataframe tbody tr th:only-of-type {\n",
       "        vertical-align: middle;\n",
       "    }\n",
       "\n",
       "    .dataframe tbody tr th {\n",
       "        vertical-align: top;\n",
       "    }\n",
       "\n",
       "    .dataframe thead th {\n",
       "        text-align: right;\n",
       "    }\n",
       "</style>\n",
       "<table border=\"1\" class=\"dataframe\">\n",
       "  <thead>\n",
       "    <tr style=\"text-align: right;\">\n",
       "      <th></th>\n",
       "      <th>Order ID</th>\n",
       "      <th>Product_ean</th>\n",
       "      <th>Quantity Ordered</th>\n",
       "      <th>Price Each</th>\n",
       "      <th>Cost price</th>\n",
       "      <th>turnover</th>\n",
       "      <th>margin</th>\n",
       "    </tr>\n",
       "  </thead>\n",
       "  <tbody>\n",
       "    <tr>\n",
       "      <th>count</th>\n",
       "      <td>185950.000000</td>\n",
       "      <td>1.859500e+05</td>\n",
       "      <td>185950.000000</td>\n",
       "      <td>185950.000000</td>\n",
       "      <td>185950.000000</td>\n",
       "      <td>185950.000000</td>\n",
       "      <td>185950.000000</td>\n",
       "    </tr>\n",
       "    <tr>\n",
       "      <th>mean</th>\n",
       "      <td>230417.569379</td>\n",
       "      <td>5.509211e+12</td>\n",
       "      <td>1.124383</td>\n",
       "      <td>184.399735</td>\n",
       "      <td>69.668583</td>\n",
       "      <td>185.490917</td>\n",
       "      <td>115.289422</td>\n",
       "    </tr>\n",
       "    <tr>\n",
       "      <th>std</th>\n",
       "      <td>51512.737110</td>\n",
       "      <td>2.598403e+12</td>\n",
       "      <td>0.442793</td>\n",
       "      <td>332.731330</td>\n",
       "      <td>109.424191</td>\n",
       "      <td>332.919771</td>\n",
       "      <td>225.227190</td>\n",
       "    </tr>\n",
       "    <tr>\n",
       "      <th>min</th>\n",
       "      <td>141234.000000</td>\n",
       "      <td>1.000083e+12</td>\n",
       "      <td>1.000000</td>\n",
       "      <td>2.990000</td>\n",
       "      <td>1.495000</td>\n",
       "      <td>2.990000</td>\n",
       "      <td>1.495000</td>\n",
       "    </tr>\n",
       "    <tr>\n",
       "      <th>25%</th>\n",
       "      <td>185831.250000</td>\n",
       "      <td>3.254280e+12</td>\n",
       "      <td>1.000000</td>\n",
       "      <td>11.950000</td>\n",
       "      <td>5.975000</td>\n",
       "      <td>11.950000</td>\n",
       "      <td>5.975000</td>\n",
       "    </tr>\n",
       "    <tr>\n",
       "      <th>50%</th>\n",
       "      <td>230367.500000</td>\n",
       "      <td>5.511235e+12</td>\n",
       "      <td>1.000000</td>\n",
       "      <td>14.950000</td>\n",
       "      <td>7.475000</td>\n",
       "      <td>14.950000</td>\n",
       "      <td>7.475000</td>\n",
       "    </tr>\n",
       "    <tr>\n",
       "      <th>75%</th>\n",
       "      <td>275035.750000</td>\n",
       "      <td>7.765195e+12</td>\n",
       "      <td>1.000000</td>\n",
       "      <td>150.000000</td>\n",
       "      <td>97.500000</td>\n",
       "      <td>150.000000</td>\n",
       "      <td>52.500000</td>\n",
       "    </tr>\n",
       "    <tr>\n",
       "      <th>max</th>\n",
       "      <td>319670.000000</td>\n",
       "      <td>9.999983e+12</td>\n",
       "      <td>9.000000</td>\n",
       "      <td>1700.000000</td>\n",
       "      <td>561.000000</td>\n",
       "      <td>3400.000000</td>\n",
       "      <td>2278.000000</td>\n",
       "    </tr>\n",
       "  </tbody>\n",
       "</table>\n",
       "</div>"
      ],
      "text/plain": [
       "            Order ID   Product_ean  Quantity Ordered     Price Each  \\\n",
       "count  185950.000000  1.859500e+05     185950.000000  185950.000000   \n",
       "mean   230417.569379  5.509211e+12          1.124383     184.399735   \n",
       "std     51512.737110  2.598403e+12          0.442793     332.731330   \n",
       "min    141234.000000  1.000083e+12          1.000000       2.990000   \n",
       "25%    185831.250000  3.254280e+12          1.000000      11.950000   \n",
       "50%    230367.500000  5.511235e+12          1.000000      14.950000   \n",
       "75%    275035.750000  7.765195e+12          1.000000     150.000000   \n",
       "max    319670.000000  9.999983e+12          9.000000    1700.000000   \n",
       "\n",
       "          Cost price       turnover         margin  \n",
       "count  185950.000000  185950.000000  185950.000000  \n",
       "mean       69.668583     185.490917     115.289422  \n",
       "std       109.424191     332.919771     225.227190  \n",
       "min         1.495000       2.990000       1.495000  \n",
       "25%         5.975000      11.950000       5.975000  \n",
       "50%         7.475000      14.950000       7.475000  \n",
       "75%        97.500000     150.000000      52.500000  \n",
       "max       561.000000    3400.000000    2278.000000  "
      ]
     },
     "execution_count": 8,
     "metadata": {},
     "output_type": "execute_result"
    }
   ],
   "source": [
    "\n",
    "df.head(100) # See the first \"100\" of rows of the dataframe\n"
   ]
  },
  {
   "cell_type": "code",
   "execution_count": null,
   "metadata": {},
   "outputs": [],
   "source": [
    "df.describe () # To get a statistical Summary of the dataframe"
   ]
  },
  {
   "cell_type": "code",
   "execution_count": 10,
   "metadata": {},
   "outputs": [
    {
     "name": "stdout",
     "output_type": "stream",
     "text": [
      "<class 'pandas.core.frame.DataFrame'>\n",
      "RangeIndex: 185950 entries, 0 to 185949\n",
      "Data columns (total 11 columns):\n",
      " #   Column            Non-Null Count   Dtype  \n",
      "---  ------            --------------   -----  \n",
      " 0   Order Date        185950 non-null  object \n",
      " 1   Order ID          185950 non-null  int64  \n",
      " 2   Product           185950 non-null  object \n",
      " 3   Product_ean       185950 non-null  float64\n",
      " 4   catégorie         185950 non-null  object \n",
      " 5   Purchase Address  185950 non-null  object \n",
      " 6   Quantity Ordered  185950 non-null  int64  \n",
      " 7   Price Each        185950 non-null  float64\n",
      " 8   Cost price        185950 non-null  float64\n",
      " 9   turnover          185950 non-null  float64\n",
      " 10  margin            185950 non-null  float64\n",
      "dtypes: float64(5), int64(2), object(4)\n",
      "memory usage: 15.6+ MB\n"
     ]
    },
    {
     "data": {
      "text/plain": [
       "'\\n# Float 64 (Decimal Numbers): 5 Columns\\n# Int64 (Whole Numbers): 2 Columns\\n# Object (Mix Data Type: Numbers and Text): 4 columns\\n# 11 Columns total \\n'"
      ]
     },
     "execution_count": 10,
     "metadata": {},
     "output_type": "execute_result"
    }
   ],
   "source": [
    "# Data Types and Null Values\n",
    "\n",
    "df.info() # Get Information about data types and null values\n",
    "\n",
    "\"\"\"\n",
    "# Float 64 (Decimal Numbers): 5 Columns\n",
    "# Int64 (Whole Numbers): 2 Columns\n",
    "# Object (Mix Data Type: Numbers and Text): 4 columns\n",
    "# 11 Columns total \n",
    "\"\"\""
   ]
  },
  {
   "cell_type": "markdown",
   "metadata": {},
   "source": [
    "## Data Cleaning"
   ]
  },
  {
   "cell_type": "code",
   "execution_count": 4,
   "metadata": {},
   "outputs": [
    {
     "data": {
      "text/plain": [
       "Order Date          0\n",
       "Order ID            0\n",
       "Product             0\n",
       "Product_ean         0\n",
       "catégorie           0\n",
       "Purchase Address    0\n",
       "Quantity Ordered    0\n",
       "Price Each          0\n",
       "Cost price          0\n",
       "turnover            0\n",
       "margin              0\n",
       "dtype: int64"
      ]
     },
     "execution_count": 4,
     "metadata": {},
     "output_type": "execute_result"
    }
   ],
   "source": [
    "#Data Cleaning :\n",
    "\n",
    "df.isnull().sum() # Searches for any missing (null) values"
   ]
  },
  {
   "cell_type": "code",
   "execution_count": null,
   "metadata": {},
   "outputs": [],
   "source": []
  }
 ],
 "metadata": {
  "kernelspec": {
   "display_name": "Python 3",
   "language": "python",
   "name": "python3"
  },
  "language_info": {
   "codemirror_mode": {
    "name": "ipython",
    "version": 3
   },
   "file_extension": ".py",
   "mimetype": "text/x-python",
   "name": "python",
   "nbconvert_exporter": "python",
   "pygments_lexer": "ipython3",
   "version": "3.11.5"
  },
  "orig_nbformat": 4
 },
 "nbformat": 4,
 "nbformat_minor": 2
}
